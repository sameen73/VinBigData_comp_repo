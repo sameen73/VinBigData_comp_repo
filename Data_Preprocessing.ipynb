{
  "nbformat": 4,
  "nbformat_minor": 0,
  "metadata": {
    "colab": {
      "name": "Data_Preprocessing",
      "provenance": [],
      "toc_visible": true,
      "authorship_tag": "ABX9TyM8cExvlaTjtULgWKEq/TJy",
      "include_colab_link": true
    },
    "kernelspec": {
      "name": "python3",
      "display_name": "Python 3"
    },
    "language_info": {
      "name": "python"
    }
  },
  "cells": [
    {
      "cell_type": "markdown",
      "metadata": {
        "id": "view-in-github",
        "colab_type": "text"
      },
      "source": [
        "<a href=\"https://colab.research.google.com/github/cluckey-smith/VinBigData_comp_repo/blob/data_processing/Data_Preprocessing.ipynb\" target=\"_parent\"><img src=\"https://colab.research.google.com/assets/colab-badge.svg\" alt=\"Open In Colab\"/></a>"
      ]
    },
    {
      "cell_type": "code",
      "metadata": {
        "colab": {
          "base_uri": "https://localhost:8080/"
        },
        "id": "cbY7Hclb9ouc",
        "outputId": "70dc2737-146e-4ce2-c0cb-959dadb4ba88"
      },
      "source": [
        "import pandas as pd\n",
        "import numpy as np\n",
        "import cv2\n",
        "from google.colab import drive\n",
        "drive.mount('/content/drive')\n",
        "import os\n",
        "from tensorflow.keras.preprocessing.image import img_to_array\n",
        "from tensorflow.keras.preprocessing.image import load_img\n",
        "from tensorflow.keras.utils import to_categorical\n",
        "from sklearn.preprocessing import LabelBinarizer\n",
        "from tensorflow.keras import datasets, layers, models\n",
        "import tensorflow as tf\n",
        "from keras.layers import Convolution2D\n",
        "from sklearn.model_selection import train_test_split"
      ],
      "execution_count": 109,
      "outputs": [
        {
          "output_type": "stream",
          "text": [
            "Drive already mounted at /content/drive; to attempt to forcibly remount, call drive.mount(\"/content/drive\", force_remount=True).\n"
          ],
          "name": "stdout"
        }
      ]
    },
    {
      "cell_type": "code",
      "metadata": {
        "id": "37WvDl3BHgy6"
      },
      "source": [
        "def rgb2gray(rgb):\n",
        "\n",
        "    r, g, b = rgb[:,:,0], rgb[:,:,1], rgb[:,:,2]\n",
        "    gray = 0.2989 * r + 0.5870 * g + 0.1140 * b\n",
        "\n",
        "    return gray"
      ],
      "execution_count": 32,
      "outputs": []
    },
    {
      "cell_type": "code",
      "metadata": {
        "id": "PXYQVADO96ea"
      },
      "source": [
        "df = pd.read_csv('./train.csv')"
      ],
      "execution_count": 2,
      "outputs": []
    },
    {
      "cell_type": "code",
      "metadata": {
        "id": "XrsPvoD_990F"
      },
      "source": [
        "train_files = os.listdir('/content/drive/MyDrive/Vin_big_data/train/')"
      ],
      "execution_count": 3,
      "outputs": []
    },
    {
      "cell_type": "code",
      "metadata": {
        "id": "bHH8aHju9-JL"
      },
      "source": [
        "labels = []\n",
        "x_min_list = []\n",
        "x_max_list = []\n",
        "y_min_list = []\n",
        "y_max_list = []\n",
        "img_name = []\n",
        "img = []\n",
        "bounding_boxes = []\n",
        "for i,r in df[:1000].iterrows():\n",
        "  img_name.append(('/content/drive/MyDrive/Vin_big_data/train/') + r['image_id'] + '.png')\n",
        "  image = load_img(('/content/drive/MyDrive/Vin_big_data/train/') + r['image_id'] + '.png')\n",
        "  image = img_to_array(image)\n",
        "  if len(image.shape) > 2:\n",
        "    image = rgb2gray(image) # Not every image is in grayscale. This is converting them to it\n",
        "  h,w = image.shape[:2]\n",
        "  image = image / 255 # Converting our graycale image to values between 0 and 1\n",
        "  img.append(image)\n",
        "  labels.append(r['class_name'])\n",
        "  x_min = r['x_min'] / w\n",
        "  x_max = r['x_max'] / w\n",
        "  y_min = r['y_min'] / h\n",
        "  y_max = r['y_max'] / h\n",
        "  x_min_list.append(x_min)\n",
        "  x_max_list.append(x_max)\n",
        "  y_min_list.append(y_min)\n",
        "  y_max_list.append(y_max)\n",
        "  bounding_boxes.append((x_min, y_min, x_max, y_max))\n",
        "  "
      ],
      "execution_count": 162,
      "outputs": []
    },
    {
      "cell_type": "markdown",
      "metadata": {
        "id": "ozXviRtiV5vH"
      },
      "source": [
        "# Transforming everything to numpy arrays and performing one-hot encoding for our categorical data"
      ]
    },
    {
      "cell_type": "code",
      "metadata": {
        "id": "F4yN8kZFHWEm"
      },
      "source": [
        "labels = np.array(labels)\n",
        "bounding_boxes = np.array(bounding_boxes)\n",
        "img = np.array(img)\n",
        "img_name = np.array(img_name)\n",
        "\n",
        "lb = LabelBinarizer()\n",
        "labels = lb.fit_transform(labels)"
      ],
      "execution_count": 163,
      "outputs": []
    },
    {
      "cell_type": "markdown",
      "metadata": {
        "id": "-qYY92GyWD1Q"
      },
      "source": [
        "# Filling nan with 0, since some have no diagnoses, and therefore, no bounding box"
      ]
    },
    {
      "cell_type": "code",
      "metadata": {
        "id": "AZBtnYdxT3G9"
      },
      "source": [
        "bounding_boxes = np.nan_to_num(bounding_boxes)"
      ],
      "execution_count": 164,
      "outputs": []
    },
    {
      "cell_type": "code",
      "metadata": {
        "id": "Q5wNvFivOnOm"
      },
      "source": [
        "split = train_test_split(img, labels, bounding_boxes, img_name,\n",
        "\ttest_size=0.20, random_state=42)\n",
        "# unpack the data split\n",
        "(trainImages, testImages) = split[:2]\n",
        "(trainLabels, testLabels) = split[2:4]\n",
        "(trainBBoxes, testBBoxes) = split[4:6]\n",
        "(trainPaths, testPaths) = split[6:]"
      ],
      "execution_count": 165,
      "outputs": []
    },
    {
      "cell_type": "markdown",
      "metadata": {
        "id": "OJGvYkdgX-Vx"
      },
      "source": [
        "# Needed to add a channel"
      ]
    },
    {
      "cell_type": "code",
      "metadata": {
        "id": "bGWQ2UyGS-qJ"
      },
      "source": [
        "trainImages = trainImages.reshape(len(trainImages), 512, 512, 1)\n",
        "testImages = testImages.reshape(len(testImages), 512, 512, 1)"
      ],
      "execution_count": 166,
      "outputs": []
    },
    {
      "cell_type": "markdown",
      "metadata": {
        "id": "j0cdhTdSVajn"
      },
      "source": [
        "# Super duper basic CNN to just play around and get the feet wet"
      ]
    },
    {
      "cell_type": "code",
      "metadata": {
        "id": "QZiBnz4RFejB"
      },
      "source": [
        "model = models.Sequential()\n",
        "model.add(layers.Conv2D(32, (3, 3), activation='relu', input_shape=(512, 512, 1)))\n",
        "model.add(layers.MaxPooling2D((2, 2)))\n",
        "model.add(layers.Conv2D(64, (3, 3), activation='relu'))\n",
        "model.add(layers.MaxPooling2D((2, 2)))\n",
        "model.add(layers.Conv2D(64, (3, 3), activation='relu'))\n",
        "model.add(layers.Flatten())\n",
        "model.add(layers.Dense(64, activation='relu'))\n",
        "model.add(layers.Dense(len(lb.classes_)))"
      ],
      "execution_count": 167,
      "outputs": []
    },
    {
      "cell_type": "code",
      "metadata": {
        "colab": {
          "base_uri": "https://localhost:8080/"
        },
        "id": "uTI6xzSmOGyd",
        "outputId": "7cc8172e-01d0-46d6-bd98-c0a539a159e1"
      },
      "source": [
        "model.compile(optimizer='adam',\n",
        "              loss='categorical_crossentropy',\n",
        "              metrics=['accuracy'])\n",
        "\n",
        "history = model.fit(trainImages, trainLabels, epochs=10, \n",
        "                    validation_data=(testImages, testLabels))"
      ],
      "execution_count": null,
      "outputs": [
        {
          "output_type": "stream",
          "text": [
            "Epoch 1/10\n",
            " 2/25 [=>............................] - ETA: 4:40 - loss: 5.4210 - accuracy: 0.0625"
          ],
          "name": "stdout"
        }
      ]
    },
    {
      "cell_type": "code",
      "metadata": {
        "id": "phvZD9qoVA18"
      },
      "source": [
        ""
      ],
      "execution_count": null,
      "outputs": []
    }
  ]
}