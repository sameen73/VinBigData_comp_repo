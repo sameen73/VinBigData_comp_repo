{
  "nbformat": 4,
  "nbformat_minor": 0,
  "metadata": {
    "colab": {
      "name": "Data_Preprocessing V2",
      "provenance": [],
      "collapsed_sections": [],
      "authorship_tag": "ABX9TyNJ+71XOYAP9AO57D0nykvK",
      "include_colab_link": true
    },
    "kernelspec": {
      "display_name": "Python 3",
      "name": "python3"
    },
    "language_info": {
      "name": "python"
    }
  },
  "cells": [
    {
      "cell_type": "markdown",
      "metadata": {
        "id": "view-in-github",
        "colab_type": "text"
      },
      "source": [
        "<a href=\"https://colab.research.google.com/github/cluckey-smith/VinBigData_comp_repo/blob/data_processing/Data_Preprocessing_V2.ipynb\" target=\"_parent\"><img src=\"https://colab.research.google.com/assets/colab-badge.svg\" alt=\"Open In Colab\"/></a>"
      ]
    },
    {
      "cell_type": "code",
      "metadata": {
        "colab": {
          "base_uri": "https://localhost:8080/"
        },
        "id": "cbY7Hclb9ouc",
        "outputId": "b7cf3407-a26d-4104-9daf-332886570bc4"
      },
      "source": [
        "import pandas as pd\n",
        "import numpy as np\n",
        "import cv2\n",
        "from google.colab import drive\n",
        "drive.mount('/content/drive')\n",
        "import os\n",
        "from tensorflow.keras.preprocessing.image import img_to_array\n",
        "from tensorflow.keras.preprocessing.image import load_img\n",
        "from tensorflow.keras.utils import to_categorical\n",
        "from sklearn.preprocessing import LabelBinarizer\n",
        "from tensorflow.keras import datasets, layers, models\n",
        "import tensorflow as tf\n",
        "from keras.layers import Convolution2D\n",
        "from sklearn.model_selection import train_test_split\n",
        "import keras.models as load\n",
        "import matplotlib.pyplot as plt\n",
        "%matplotlib inline\n",
        "from sklearn.utils.class_weight import compute_class_weight\n",
        "import time\n"
      ],
      "execution_count": 17,
      "outputs": [
        {
          "output_type": "stream",
          "text": [
            "Drive already mounted at /content/drive; to attempt to forcibly remount, call drive.mount(\"/content/drive\", force_remount=True).\n"
          ],
          "name": "stdout"
        }
      ]
    },
    {
      "cell_type": "code",
      "metadata": {
        "id": "37WvDl3BHgy6"
      },
      "source": [
        "def rgb2gray(rgb):\n",
        "\n",
        "    r, g, b = rgb[:,:,0], rgb[:,:,1], rgb[:,:,2]\n",
        "    gray = 0.2989 * r + 0.5870 * g + 0.1140 * b\n",
        "\n",
        "    return gray"
      ],
      "execution_count": 2,
      "outputs": []
    },
    {
      "cell_type": "code",
      "metadata": {
        "id": "PXYQVADO96ea"
      },
      "source": [
        "df = pd.read_csv('./train.csv')\n",
        "orig = df"
      ],
      "execution_count": 3,
      "outputs": []
    },
    {
      "cell_type": "code",
      "metadata": {
        "id": "XrsPvoD_990F"
      },
      "source": [
        "train_files = os.listdir('/content/drive/MyDrive/Vin_big_data/train/')"
      ],
      "execution_count": 4,
      "outputs": []
    },
    {
      "cell_type": "code",
      "metadata": {
        "id": "2MJ8DQ4fajcj"
      },
      "source": [
        "df = df.pivot_table(index='image_id', columns='class_id', values='class_name', aggfunc=lambda x: len(x.unique())).fillna(0)"
      ],
      "execution_count": 5,
      "outputs": []
    },
    {
      "cell_type": "code",
      "metadata": {
        "id": "nbyzQAGrahpk"
      },
      "source": [
        "df.reset_index(inplace=True)\n"
      ],
      "execution_count": 6,
      "outputs": []
    },
    {
      "cell_type": "code",
      "metadata": {
        "id": "bHH8aHju9-JL"
      },
      "source": [
        "labels = []\n",
        "img_name = []\n",
        "img = []\n",
        "classes = []\n",
        "\n",
        "for i,r in df[:2000].iterrows():\n",
        "  img_name.append(('/content/drive/MyDrive/Vin_big_data/train/') + r['image_id'] + '.png')\n",
        "  image = load_img(('/content/drive/MyDrive/Vin_big_data/train/') + r['image_id'] + '.png')\n",
        "  image = img_to_array(image)\n",
        "  if len(image.shape) > 2:\n",
        "    image = rgb2gray(image) # Not every image is in grayscale. This is converting them to it\n",
        "  h,w = image.shape[:2]\n",
        "  image = image / 255 # Converting our graycale image to values between 0 and 1\n",
        "  img.append(image)\n",
        "  classes.append(np.array(df.iloc[i][df.columns[1:]].values))\n"
      ],
      "execution_count": 7,
      "outputs": []
    },
    {
      "cell_type": "code",
      "metadata": {
        "id": "zMmrDzapjZFA"
      },
      "source": [
        "weights = compute_class_weight('balanced', np.unique(orig.class_id), orig.class_id[:2000])\n",
        "cw = dict(zip(np.unique(orig.class_id), weights))"
      ],
      "execution_count": 9,
      "outputs": []
    },
    {
      "cell_type": "code",
      "metadata": {
        "colab": {
          "base_uri": "https://localhost:8080/"
        },
        "id": "Lz2KQV89klDi",
        "outputId": "6e648c15-9f6e-4160-ab7a-67f57c67c173"
      },
      "source": [
        "cw"
      ],
      "execution_count": 10,
      "outputs": [
        {
          "output_type": "execute_result",
          "data": {
            "text/plain": [
              "{0: 0.5952380952380952,\n",
              " 1: 16.666666666666668,\n",
              " 2: 5.333333333333333,\n",
              " 3: 0.7936507936507936,\n",
              " 4: 8.88888888888889,\n",
              " 5: 4.040404040404041,\n",
              " 6: 3.508771929824561,\n",
              " 7: 1.8518518518518519,\n",
              " 8: 1.8779342723004695,\n",
              " 9: 2.3391812865497075,\n",
              " 10: 1.9047619047619047,\n",
              " 11: 0.9876543209876543,\n",
              " 12: 22.22222222222222,\n",
              " 13: 0.9592326139088729,\n",
              " 14: 0.1419950301739439}"
            ]
          },
          "metadata": {
            "tags": []
          },
          "execution_count": 10
        }
      ]
    },
    {
      "cell_type": "markdown",
      "metadata": {
        "id": "ozXviRtiV5vH"
      },
      "source": [
        "# Transforming everything to numpy arrays"
      ]
    },
    {
      "cell_type": "code",
      "metadata": {
        "id": "F4yN8kZFHWEm"
      },
      "source": [
        "img = np.array(img)\n",
        "img_name = np.array(img_name)\n"
      ],
      "execution_count": 11,
      "outputs": []
    },
    {
      "cell_type": "code",
      "metadata": {
        "id": "DLwcc1TbfmZ7"
      },
      "source": [
        "classes = np.asarray(classes).astype('float32')"
      ],
      "execution_count": 12,
      "outputs": []
    },
    {
      "cell_type": "code",
      "metadata": {
        "id": "Q5wNvFivOnOm"
      },
      "source": [
        "split = train_test_split(img, classes,test_size=0.20, random_state=42)\n",
        "(trainImages, testImages) = split[:2]\n",
        "(trainLabels, testLabels) = split[2:4]\n"
      ],
      "execution_count": 13,
      "outputs": []
    },
    {
      "cell_type": "markdown",
      "metadata": {
        "id": "OJGvYkdgX-Vx"
      },
      "source": [
        "# Needed to add a channel"
      ]
    },
    {
      "cell_type": "code",
      "metadata": {
        "id": "bGWQ2UyGS-qJ"
      },
      "source": [
        "trainImages = trainImages.reshape(len(trainImages), 512, 512, 1)\n",
        "testImages = testImages.reshape(len(testImages), 512, 512, 1)"
      ],
      "execution_count": 14,
      "outputs": []
    },
    {
      "cell_type": "markdown",
      "metadata": {
        "id": "j0cdhTdSVajn"
      },
      "source": [
        "# Super duper basic CNN to just play around and get the feet wet"
      ]
    },
    {
      "cell_type": "code",
      "metadata": {
        "id": "QZiBnz4RFejB"
      },
      "source": [
        "model = models.Sequential()\n",
        "model.add(layers.Conv2D(32, (3, 3), activation='relu', input_shape=(512, 512, 1)))\n",
        "model.add(layers.MaxPooling2D((2, 2)))\n",
        "\n",
        "model.add(layers.Conv2D(32, (3, 3), activation='relu', input_shape=(512, 512, 1)))\n",
        "model.add(layers.MaxPooling2D((2, 2)))\n",
        "\n",
        "model.add(layers.Dropout(0.5))\n",
        "\n",
        "model.add(layers.Conv2D(64, (3, 3), activation='relu'))\n",
        "model.add(layers.MaxPooling2D((2, 2)))\n",
        "\n",
        "model.add(layers.Conv2D(64, (3, 3), activation='relu'))\n",
        "model.add(layers.MaxPooling2D((2, 2)))\n",
        "model.add(layers.Dropout(0.25))\n",
        "\n",
        "model.add(layers.Conv2D(64, (3, 3), activation='relu'))\n",
        "model.add(layers.Conv2D(128, (3, 3), activation='relu'))\n",
        "model.add(layers.MaxPooling2D((2, 2)))\n",
        "\n",
        "model.add(layers.Flatten())\n",
        "model.add(layers.Dense(64, activation='relu'))\n",
        "model.add(layers.Dense(len(classes[1]), activation='sigmoid'))"
      ],
      "execution_count": 22,
      "outputs": []
    },
    {
      "cell_type": "code",
      "metadata": {
        "colab": {
          "base_uri": "https://localhost:8080/"
        },
        "id": "uTI6xzSmOGyd",
        "outputId": "260f956b-6eb0-446a-e9ea-6c970d5a45dd"
      },
      "source": [
        "model.compile(optimizer='adam',\n",
        "              loss='binary_crossentropy',\n",
        "              metrics=['accuracy'])\n",
        "\n",
        "history = model.fit(trainImages, trainLabels, epochs=10, \n",
        "                    validation_data=(testImages, testLabels), class_weight=cw)"
      ],
      "execution_count": null,
      "outputs": [
        {
          "output_type": "stream",
          "text": [
            "WARNING:tensorflow:From /usr/local/lib/python3.7/dist-packages/tensorflow/python/ops/array_ops.py:5049: calling gather (from tensorflow.python.ops.array_ops) with validate_indices is deprecated and will be removed in a future version.\n",
            "Instructions for updating:\n",
            "The `validate_indices` argument has no effect. Indices are always validated on CPU and never validated on GPU.\n",
            "Epoch 1/10\n",
            "20/50 [===========>..................] - ETA: 4:57 - loss: 0.3917 - accuracy: 0.0156"
          ],
          "name": "stdout"
        }
      ]
    },
    {
      "cell_type": "code",
      "metadata": {
        "id": "phvZD9qoVA18"
      },
      "source": [
        "model.save(('/content/drive/MyDrive/Vin_big_data/model_' + pd.to_datetime('now').strftime('%Y-%m-%d_%M_%H')))"
      ],
      "execution_count": null,
      "outputs": []
    },
    {
      "cell_type": "markdown",
      "metadata": {
        "id": "jUm-0TSAmC27"
      },
      "source": [
        "# Plot our loss and perform a prediction or two"
      ]
    },
    {
      "cell_type": "code",
      "metadata": {
        "id": "yy63sha_mCnx"
      },
      "source": [
        ""
      ],
      "execution_count": null,
      "outputs": []
    },
    {
      "cell_type": "code",
      "metadata": {
        "id": "OqbxRJvXmB8N"
      },
      "source": [
        ""
      ],
      "execution_count": null,
      "outputs": []
    },
    {
      "cell_type": "code",
      "metadata": {
        "id": "cYfJYgrwzoBH"
      },
      "source": [
        "model = load.load_model('/content/drive/MyDrive/Vin_big_data/model_08_15_2021')"
      ],
      "execution_count": 38,
      "outputs": []
    },
    {
      "cell_type": "code",
      "metadata": {
        "colab": {
          "base_uri": "https://localhost:8080/",
          "height": 282
        },
        "id": "I-S2FhOFYnJo",
        "outputId": "4a4fbffc-0204-4e00-db02-d36dcf9e8f7c"
      },
      "source": [
        "plt.plot(history.history['loss'])\n",
        "plt.plot(history.history['accuracy'])\n",
        "plt.plot(history.history['val_accuracy'])\n",
        "plt.plot(history.history['val_loss'])"
      ],
      "execution_count": 46,
      "outputs": [
        {
          "output_type": "execute_result",
          "data": {
            "text/plain": [
              "[<matplotlib.lines.Line2D at 0x7f1e51a7dfd0>]"
            ]
          },
          "metadata": {
            "tags": []
          },
          "execution_count": 46
        },
        {
          "output_type": "display_data",
          "data": {
            "image/png": "[encoded data removed]",
            "text/plain": [
              "<Figure size 432x288 with 1 Axes>"
            ]
          },
          "metadata": {
            "tags": [],
            "needs_background": "light"
          }
        }
      ]
    },
    {
      "cell_type": "code",
      "metadata": {
        "id": "3rqoocqTZq7E"
      },
      "source": [
        "x = load_img(('/content/drive/MyDrive/Vin_big_data/train/') + df.iloc[3903]['image_id'] + '.png')\n"
      ],
      "execution_count": 99,
      "outputs": []
    },
    {
      "cell_type": "code",
      "metadata": {
        "id": "HyHN1gJBZsJd"
      },
      "source": [
        "x = img_to_array(x)"
      ],
      "execution_count": 100,
      "outputs": []
    },
    {
      "cell_type": "code",
      "metadata": {
        "id": "wRFqA4olZ9Ic"
      },
      "source": [
        "x = rgb2gray(x)\n",
        "x = x/255"
      ],
      "execution_count": 101,
      "outputs": []
    },
    {
      "cell_type": "code",
      "metadata": {
        "id": "ysSXhI3OaHU9"
      },
      "source": [
        "x = x.reshape(-1, 512,512,1)"
      ],
      "execution_count": 102,
      "outputs": []
    },
    {
      "cell_type": "code",
      "metadata": {
        "colab": {
          "base_uri": "https://localhost:8080/"
        },
        "id": "rn7C3a9LaOb9",
        "outputId": "fa11647a-9929-40c1-d386-a9f28f5a57c5"
      },
      "source": [
        "model.predict(x)"
      ],
      "execution_count": 103,
      "outputs": [
        {
          "output_type": "execute_result",
          "data": {
            "text/plain": [
              "array([[0.19250548, 0.04342401, 0.09916502, 0.09739822, 0.06486562,\n",
              "        0.09231791, 0.08568898, 0.12827855, 0.09370884, 0.14104465,\n",
              "        0.13799763, 0.2262997 , 0.03577763, 0.13670793, 0.7328673 ]],\n",
              "      dtype=float32)"
            ]
          },
          "metadata": {
            "tags": []
          },
          "execution_count": 103
        }
      ]
    },
    {
      "cell_type": "code",
      "metadata": {
        "id": "c0Z4IZIRartN"
      },
      "source": [
        ""
      ],
      "execution_count": null,
      "outputs": []
    }
  ]
}